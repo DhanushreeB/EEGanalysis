{
 "cells": [
  {
   "cell_type": "code",
   "execution_count": 76,
   "metadata": {},
   "outputs": [],
   "source": [
    "import pandas\n",
    "import numpy as np\n",
    "import scipy.fftpack\n",
    "import matplotlib.pyplot as plt\n",
    "\n",
    "THINKING_CSV = 'thinking.csv'\n",
    "READING_CSV = 'reading.csv'\n",
    "MEDITATING_CSV = 'meditating.csv'\n",
    "\n",
    "FREQ = 256\n",
    "\n",
    "def plotFFT(csv):\n",
    "    df =prepareEEGdata(csv)\n",
    "    # df.plot()\n",
    "    # remove outliers\n",
    "    # df=df[np.abs(df.fp2-df.fp2.mean()) <= (100*df.fp2.std())]\n",
    "    # df.plot()\n",
    "    yf = scipy.fft(df.fp2.values)\n",
    "    x = scipy.fftpack.fftfreq(yf.size, 1 / FREQ)\n",
    "    # yf = yf/1000\n",
    "    fig, axes = plt.subplots()\n",
    "    axes.plot(np.abs(x), np.abs(yf))\n",
    "    # axes.plot(x[:x.size//2], np.abs(yf)[:yf.size//2])\n",
    "    # axes.set_aspect('equal')\n",
    "    # axes.set_xlim([xmin,xmax])\n",
    "    # ymin = 0\n",
    "    # ymax = 20000\n",
    "    # axes.set_ylim([ymin,ymax])\n",
    "    plt.show()\n",
    "\n",
    "def prepareEEGdata(csv):\n",
    "    df = pandas.read_csv(csv)\n",
    "    df = df.dropna(how='all', axis=1)\n",
    "    df = df.rename(index=str, columns={'FP2-F4': 'fp2'})\n",
    "    df = df[~df.fp2.str.contains(\"FP\")]\n",
    "    df = df.astype(float)\n",
    "    df.fp2 = df.fp2.clip( lower = -600, upper = 600)\n",
    "    df['diff1'] = df.fp2.diff()\n",
    "    df['diff2'] = df.diff1.diff()\n",
    "    df = df.dropna()\n",
    "    df = convertToDateIndexFromNum(df)\n",
    "    return df\n",
    "\n",
    "def plotRange(df,dfCol,start,end):\n",
    "\n",
    "    df.iloc[:df.fp2.size // 10].fp2.plot()\n",
    "    # df.tail(1000).fp2.plot()\n",
    "    plt.show()\n",
    "\n",
    "\n",
    "def convertToDateIndexFromNum(df):\n",
    "    df = df.reset_index(drop=True)\n",
    "    df['id']=df.index\n",
    "    df.index = df.index / FREQ\n",
    "    df.index = pandas.to_datetime(df.index, unit='s')\n",
    "    return df\n"
   ]
  },
  {
   "cell_type": "code",
   "execution_count": 77,
   "metadata": {
    "scrolled": true
   },
   "outputs": [
    {
     "data": {
      "text/plain": [
       "array([[<matplotlib.axes._subplots.AxesSubplot object at 0x000001D95D87AFD0>]],\n",
       "      dtype=object)"
      ]
     },
     "execution_count": 77,
     "metadata": {},
     "output_type": "execute_result"
    },
    {
     "data": {
      "image/png": "[encoded data removed]",
      "text/plain": [
       "<Figure size 432x288 with 1 Axes>"
      ]
     },
     "metadata": {
      "needs_background": "light"
     },
     "output_type": "display_data"
    }
   ],
   "source": [
    "df = prepareEEGdata(MEDITATING_CSV)\n",
    "df.hist(column='fp2',bins=1000)\n",
    "# df.fp2.value_counts()"
   ]
  }
 ],
 "metadata": {
  "kernelspec": {
   "display_name": "Python 3",
   "language": "python",
   "name": "python3"
  },
  "language_info": {
   "codemirror_mode": {
    "name": "ipython",
    "version": 3
   },
   "file_extension": ".py",
   "mimetype": "text/x-python",
   "name": "python",
   "nbconvert_exporter": "python",
   "pygments_lexer": "ipython3",
   "version": "3.7.0"
  }
 },
 "nbformat": 4,
 "nbformat_minor": 2
}
